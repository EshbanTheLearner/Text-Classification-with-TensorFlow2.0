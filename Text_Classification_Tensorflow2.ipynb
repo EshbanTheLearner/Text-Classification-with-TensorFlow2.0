{
 "cells": [
  {
   "cell_type": "markdown",
   "metadata": {},
   "source": [
    "# Overview\n",
    "In this notebook, we will classify movie reviews as *positive* or *negative* using the text of the review. It would be an example of binary or two-class classification, an important and widely applicable kind of ML problem. <br>\n",
    "We will be using the IMDB dataset that contains the text of 50,000 movie reviews from the Internet Movie Databse. We will use 25,000 reviews as training data and the rest 25,000 as the testing data. Both sets contain equal number of negative and positive reviews."
   ]
  },
  {
   "cell_type": "markdown",
   "metadata": {},
   "source": [
    "# Updating to TensorFlow 2.0 Alpha"
   ]
  },
  {
   "cell_type": "code",
   "execution_count": 1,
   "metadata": {
    "colab": {
     "base_uri": "https://localhost:8080/",
     "height": 34
    },
    "colab_type": "code",
    "id": "Fhhft-8Pij47",
    "outputId": "8a1f7b77-2c52-4577-fce0-0c1b7357185d"
   },
   "outputs": [
    {
     "name": "stdout",
     "output_type": "stream",
     "text": [
      "2.0.0-alpha0\n"
     ]
    }
   ],
   "source": [
    "from __future__ import absolute_import, division, print_function\n",
    "\n",
    "!pip install -q tensorflow==2.0.0-alpha0\n",
    "\n",
    "import tensorflow as tf\n",
    "from tensorflow import keras\n",
    "\n",
    "import numpy as np\n",
    "\n",
    "print(tf.__version__)"
   ]
  },
  {
   "cell_type": "markdown",
   "metadata": {},
   "source": [
    "# Downloading the IMDB Dataset\n",
    "The IMDB dataset comes packaged with TensorFlow. It has already preprocessed such that the reviews (sequences of words) have been converted to sequences of integers, where each integer represents a specific word in a dictionary. <br>\n",
    "The argument `num_words=10000` keeps the top 10,000 most frequently occuring words in the training data. The rare words are discarded to keep the size of the data manageable."
   ]
  },
  {
   "cell_type": "code",
   "execution_count": 2,
   "metadata": {
    "colab": {
     "base_uri": "https://localhost:8080/",
     "height": 71
    },
    "colab_type": "code",
    "id": "uvhx-FbKi_5j",
    "outputId": "fb1eebdf-3d70-47c3-ad02-afcad41de49a"
   },
   "outputs": [
    {
     "name": "stdout",
     "output_type": "stream",
     "text": [
      "Downloading data from https://storage.googleapis.com/tensorflow/tf-keras-datasets/imdb.npz\n",
      "17465344/17464789 [==============================] - 0s 0us/step\n"
     ]
    }
   ],
   "source": [
    "imdb = keras.datasets.imdb\n",
    "(train_data, train_labels), (test_data, test_labels) = imdb.load_data(num_words=10000)"
   ]
  },
  {
   "cell_type": "markdown",
   "metadata": {},
   "source": [
    "# Exploratory Analysis\n",
    "The dataset, as discussed, comes preprocessed i.e. each example is an array of integers representing the words of the movie review. Each label is an integer value of either 0 or 1, where 0 is *negative* and 1 is *positive* review."
   ]
  },
  {
   "cell_type": "code",
   "execution_count": 3,
   "metadata": {
    "colab": {
     "base_uri": "https://localhost:8080/",
     "height": 34
    },
    "colab_type": "code",
    "id": "5jAcj8Hsk0jM",
    "outputId": "dd813ff8-dab9-4953-f697-9f0b4d416871"
   },
   "outputs": [
    {
     "name": "stdout",
     "output_type": "stream",
     "text": [
      "Training enteries: 25000, labels: 25000\n"
     ]
    }
   ],
   "source": [
    "print(\"Training enteries: {}, labels: {}\".format(len(train_data), len(train_labels)))"
   ]
  },
  {
   "cell_type": "markdown",
   "metadata": {},
   "source": [
    "The text of reviews have been converted to integers, where each integer represents a specific word in a dictionary. Here's what the 69th review looks like"
   ]
  },
  {
   "cell_type": "code",
   "execution_count": 4,
   "metadata": {
    "colab": {
     "base_uri": "https://localhost:8080/",
     "height": 54
    },
    "colab_type": "code",
    "id": "JcypH-ZSlEqk",
    "outputId": "c412ab40-785a-43d4-ecff-c20915f434db",
    "scrolled": true
   },
   "outputs": [
    {
     "name": "stdout",
     "output_type": "stream",
     "text": [
      "[1, 48, 335, 6, 337, 7, 22, 1359, 5, 104, 36, 92, 97, 4403, 40, 36, 343, 8, 133, 9, 129, 1527, 36, 43, 92, 97, 4403, 11, 363, 1627, 75, 215, 471, 8, 4, 785, 8, 377, 89, 2349, 1302, 5, 1307, 6, 73, 93, 22, 39, 15, 512, 70, 30, 332, 61, 4047, 9, 6, 1669, 1606, 117, 3470, 8, 4, 2737, 39, 167, 6990, 2, 1890, 2455, 2804, 5, 478, 354, 39, 2, 2, 5, 3244, 2, 10, 10, 4, 1121, 114, 100, 28, 77, 398, 11, 4, 7239, 995, 21, 2276, 1233, 2697, 5, 6, 1393, 21, 2, 5203, 6485, 37, 505, 46, 8, 30, 2, 3548, 1974, 257, 85, 137, 581, 456, 7, 3752, 4182, 5, 6626, 8803, 257, 85, 8, 909, 68, 205, 630, 2061, 1315, 119, 784, 649, 3107, 56, 1676, 4090, 1237, 5436, 1405, 6879, 491, 2018, 5, 775, 7, 278, 32, 206, 304, 273, 11, 2279, 6119, 5, 42, 862, 3990, 1979, 10, 10, 2, 47, 3357, 49, 682, 1299, 7, 265, 4, 5203, 6485, 9, 35, 2, 1052, 3504, 37, 571, 8, 30, 754, 5080, 5, 1077, 41, 5484, 886, 1256, 8, 193, 1060, 23, 148, 37, 2, 41, 5, 121, 25, 238, 535, 9147, 119, 139, 25, 1974, 15, 199, 105, 26, 3375, 2094, 5, 5832, 763, 11, 6, 227, 7, 682, 2131, 5, 228, 5, 12, 186, 40, 6, 2392, 22, 21, 97, 57, 1323, 14, 9, 154, 396, 22, 1359, 45, 17, 52, 17, 101, 22, 39, 4, 512, 5, 714, 31, 7, 4, 118, 108, 207, 110, 32, 291]\n"
     ]
    }
   ],
   "source": [
    "print(train_data[69])"
   ]
  },
  {
   "cell_type": "markdown",
   "metadata": {},
   "source": [
    "Movie reviews are of different lengths as shown by code below. We will have to resolve it later as inputs to a neural network should be equal in length."
   ]
  },
  {
   "cell_type": "code",
   "execution_count": 6,
   "metadata": {
    "colab": {
     "base_uri": "https://localhost:8080/",
     "height": 34
    },
    "colab_type": "code",
    "id": "UfxUQEPglIj7",
    "outputId": "391ba185-cacc-4d98-f149-7c59e83e9e1d"
   },
   "outputs": [
    {
     "data": {
      "text/plain": [
       "(218, 189)"
      ]
     },
     "execution_count": 6,
     "metadata": {
      "tags": []
     },
     "output_type": "execute_result"
    }
   ],
   "source": [
    "len(train_data[0]), len(train_data[1])"
   ]
  },
  {
   "cell_type": "markdown",
   "metadata": {},
   "source": [
    "# Converting Integers back to Words\n",
    "We will create a helper function to query a dictionary object that contains the integer to string mapping."
   ]
  },
  {
   "cell_type": "code",
   "execution_count": 7,
   "metadata": {
    "colab": {
     "base_uri": "https://localhost:8080/",
     "height": 71
    },
    "colab_type": "code",
    "id": "lV3USOJklQH5",
    "outputId": "d90e81b8-7a41-4cb3-804a-2c64a177b36b"
   },
   "outputs": [
    {
     "name": "stdout",
     "output_type": "stream",
     "text": [
      "Downloading data from https://storage.googleapis.com/tensorflow/tf-keras-datasets/imdb_word_index.json\n",
      "1646592/1641221 [==============================] - 0s 0us/step\n"
     ]
    }
   ],
   "source": [
    "# A dictionary mapping words to an integer index\n",
    "word_index = imdb.get_word_index()"
   ]
  },
  {
   "cell_type": "code",
   "execution_count": 0,
   "metadata": {
    "colab": {},
    "colab_type": "code",
    "id": "rRZsOHF3lbeV"
   },
   "outputs": [],
   "source": [
    "#The first indices are reversed\n",
    "word_index = {k: (v+3) for k,v in word_index.items()}\n",
    "word_index[\"<PAD>\"] = 0\n",
    "word_index[\"<START>\"] = 1\n",
    "word_index[\"<UNK>\"] = 2\n",
    "word_index[\"<UNUSED>\"] = 3\n",
    "\n",
    "reverse_word_index = dict([(value, key) for (key, value) in word_index.items()])"
   ]
  },
  {
   "cell_type": "code",
   "execution_count": 0,
   "metadata": {
    "colab": {},
    "colab_type": "code",
    "id": "W0zXZeGNl7OO"
   },
   "outputs": [],
   "source": [
    "def decode_review(text):\n",
    "  return ' '.join([reverse_word_index.get(i, '?') for i in text])"
   ]
  },
  {
   "cell_type": "markdown",
   "metadata": {},
   "source": [
    "Let's decode the first review to text by using the `decode_review` function."
   ]
  },
  {
   "cell_type": "code",
   "execution_count": 10,
   "metadata": {
    "colab": {
     "base_uri": "https://localhost:8080/",
     "height": 54
    },
    "colab_type": "code",
    "id": "GDrU2HVjmU3y",
    "outputId": "05f357e6-a7d2-40e4-8d08-761431e57e68"
   },
   "outputs": [
    {
     "data": {
      "text/plain": [
       "\"<START> this film was just brilliant casting location scenery story direction everyone's really suited the part they played and you could just imagine being there robert <UNK> is an amazing actor and now the same being director <UNK> father came from the same scottish island as myself so i loved the fact there was a real connection with this film the witty remarks throughout the film were great it was just brilliant so much that i bought the film as soon as it was released for <UNK> and would recommend it to everyone to watch and the fly fishing was amazing really cried at the end it was so sad and you know what they say if you cry at a film it must have been good and this definitely was also <UNK> to the two little boy's that played the <UNK> of norman and paul they were just brilliant children are often left out of the <UNK> list i think because the stars that play them all grown up are such a big profile for the whole film but these children are amazing and should be praised for what they have done don't you think the whole story was so lovely because it was true and was someone's life after all that was shared with us all\""
      ]
     },
     "execution_count": 10,
     "metadata": {
      "tags": []
     },
     "output_type": "execute_result"
    }
   ],
   "source": [
    "decode_review(train_data[0])"
   ]
  },
  {
   "cell_type": "markdown",
   "metadata": {},
   "source": [
    "# Data Preparation\n",
    "The reviews which are in the form of integer arrays must be converted into tensors before feeding them to a neural network. We will use the following method: <br>\n",
    "We will pad the arrays so they all have the same length, then we'll create an integer tensor of shape `max_length * num_reviews`. We will use an embedding layer capable of handling this shape as the first layer in the network. <br>\n",
    "We will use `pad_sequences` function to standardize the lengths."
   ]
  },
  {
   "cell_type": "code",
   "execution_count": 0,
   "metadata": {
    "colab": {},
    "colab_type": "code",
    "id": "2z4kOBppmZm4"
   },
   "outputs": [],
   "source": [
    "train_data = keras.preprocessing.sequence.pad_sequences(train_data,\n",
    "                                                       value=word_index[\"<PAD>\"],\n",
    "                                                       padding='post',\n",
    "                                                       maxlen=256)\n",
    "test_data = keras.preprocessing.sequence.pad_sequences(test_data,\n",
    "                                                      value=word_index[\"<PAD>\"],\n",
    "                                                      padding='post',\n",
    "                                                      maxlen=256)"
   ]
  },
  {
   "cell_type": "markdown",
   "metadata": {},
   "source": [
    "Lengths are now equal"
   ]
  },
  {
   "cell_type": "code",
   "execution_count": 12,
   "metadata": {
    "colab": {
     "base_uri": "https://localhost:8080/",
     "height": 34
    },
    "colab_type": "code",
    "id": "CMwRR78anQXY",
    "outputId": "e4958a2b-2940-4ba8-dc77-b9f437ebdd2b"
   },
   "outputs": [
    {
     "data": {
      "text/plain": [
       "(256, 256)"
      ]
     },
     "execution_count": 12,
     "metadata": {
      "tags": []
     },
     "output_type": "execute_result"
    }
   ],
   "source": [
    "len(train_data[0]), len(train_data[1])"
   ]
  },
  {
   "cell_type": "markdown",
   "metadata": {},
   "source": [
    "Inspecting the first 'padded' review."
   ]
  },
  {
   "cell_type": "code",
   "execution_count": 13,
   "metadata": {
    "colab": {
     "base_uri": "https://localhost:8080/",
     "height": 360
    },
    "colab_type": "code",
    "id": "v8m7LNVTnarV",
    "outputId": "cf2d072a-f362-4ce7-9ccc-9e86f9214bc3"
   },
   "outputs": [
    {
     "name": "stdout",
     "output_type": "stream",
     "text": [
      "[   1   14   22   16   43  530  973 1622 1385   65  458 4468   66 3941\n",
      "    4  173   36  256    5   25  100   43  838  112   50  670    2    9\n",
      "   35  480  284    5  150    4  172  112  167    2  336  385   39    4\n",
      "  172 4536 1111   17  546   38   13  447    4  192   50   16    6  147\n",
      " 2025   19   14   22    4 1920 4613  469    4   22   71   87   12   16\n",
      "   43  530   38   76   15   13 1247    4   22   17  515   17   12   16\n",
      "  626   18    2    5   62  386   12    8  316    8  106    5    4 2223\n",
      " 5244   16  480   66 3785   33    4  130   12   16   38  619    5   25\n",
      "  124   51   36  135   48   25 1415   33    6   22   12  215   28   77\n",
      "   52    5   14  407   16   82    2    8    4  107  117 5952   15  256\n",
      "    4    2    7 3766    5  723   36   71   43  530  476   26  400  317\n",
      "   46    7    4    2 1029   13  104   88    4  381   15  297   98   32\n",
      " 2071   56   26  141    6  194 7486   18    4  226   22   21  134  476\n",
      "   26  480    5  144   30 5535   18   51   36   28  224   92   25  104\n",
      "    4  226   65   16   38 1334   88   12   16  283    5   16 4472  113\n",
      "  103   32   15   16 5345   19  178   32    0    0    0    0    0    0\n",
      "    0    0    0    0    0    0    0    0    0    0    0    0    0    0\n",
      "    0    0    0    0    0    0    0    0    0    0    0    0    0    0\n",
      "    0    0    0    0]\n"
     ]
    }
   ],
   "source": [
    "print(train_data[0])"
   ]
  },
  {
   "cell_type": "markdown",
   "metadata": {},
   "source": [
    "# Building the Model\n",
    "The neural network is created by stacking layers. We will have to decide the number of layers and the number of *hidden units* in each layer to build this model."
   ]
  },
  {
   "cell_type": "markdown",
   "metadata": {},
   "source": [
    "# Model Summary\n",
    "Layers are stacked sequentially to build the classifier. <br>\n",
    "* The first layer is and `Embedding` layer. It takes the integer-encoded vocabulary and looks up the embedding vector for each word-index. These vectors are learned as the model trains. The vectors add a dimension to the output array. The resulting dimensions are: `(batch, sequence, embedding)`. \n",
    "* Next, a `GlobalAveragePooling1D` layer returns a fixed-length output vector for each example by averaging over the sequence dimension. This allows the model to handle input of variable length, in the simplest way possible.\n",
    "* This fixed-length output vector is piped through a fully-connected (`Dense`) layer with 16 hidden units.\n",
    "* The lasst layer is densely connected with a single output node. Using the `sigmoid` activation function, this value is a float between 0 and 1, representing a probability, or confidence level."
   ]
  },
  {
   "cell_type": "markdown",
   "metadata": {},
   "source": [
    "# Hidden Units\n",
    "The above model has two intermediate or \"hidden\" layers, between the input and output. The number of outputs (units, nodes, or neurons) is the dimension of the representational space for the layer. In other words, the amount of freedom the network is allowed when learning an internal representation.\n",
    "<br>\n",
    "If a model has more hidden units (a higher-dimensional representation space), and/or more layers, then the network can learn more complex representations. However, it makes the network more computationally expensive and may lead to learning unwanted patterns—patterns that improve performance on training data but not on the test data. This is called *overfitting*, and we'll explore it later."
   ]
  },
  {
   "cell_type": "code",
   "execution_count": 14,
   "metadata": {
    "colab": {
     "base_uri": "https://localhost:8080/",
     "height": 289
    },
    "colab_type": "code",
    "id": "oU73E9wrnjjH",
    "outputId": "d74d9458-2897-4c8a-8039-c3f47bc05513"
   },
   "outputs": [
    {
     "name": "stdout",
     "output_type": "stream",
     "text": [
      "Model: \"sequential\"\n",
      "_________________________________________________________________\n",
      "Layer (type)                 Output Shape              Param #   \n",
      "=================================================================\n",
      "embedding (Embedding)        (None, None, 16)          160000    \n",
      "_________________________________________________________________\n",
      "global_average_pooling1d (Gl (None, 16)                0         \n",
      "_________________________________________________________________\n",
      "dense (Dense)                (None, 16)                272       \n",
      "_________________________________________________________________\n",
      "dense_1 (Dense)              (None, 1)                 17        \n",
      "=================================================================\n",
      "Total params: 160,289\n",
      "Trainable params: 160,289\n",
      "Non-trainable params: 0\n",
      "_________________________________________________________________\n"
     ]
    }
   ],
   "source": [
    "#input shape is the vocabulary count for the movie reviews\n",
    "vocab_size = 10000\n",
    "\n",
    "model = keras.Sequential()\n",
    "model.add(keras.layers.Embedding(vocab_size, 16))\n",
    "model.add(keras.layers.GlobalAveragePooling1D())\n",
    "model.add(keras.layers.Dense(16, activation='relu'))\n",
    "model.add(keras.layers.Dense(1, activation='sigmoid'))\n",
    "\n",
    "model.summary()"
   ]
  },
  {
   "cell_type": "markdown",
   "metadata": {},
   "source": [
    "# Loss Function & Optimizer\n",
    "A model needs a loss function and an optimizer for training. Since this is a binary classification problem and the model outputs a probability (a single-unit layer with a sigmoid activation), we'll use the `binary_crossentropy` loss function. <br>\n",
    "This isn't the only choice for a loss function, you could, for instance, choose `mean_squared_error`. But, generally, `binary_crossentropy` is better for dealing with probabilities ass it measures the \"distance\" between probability distributions, or in our case, between the ground-truth distribution and the predictions. <br>\n",
    "Now let's configure the model to use an optimizer and a loss function."
   ]
  },
  {
   "cell_type": "code",
   "execution_count": 0,
   "metadata": {
    "colab": {},
    "colab_type": "code",
    "id": "SFKNInrvoB-_"
   },
   "outputs": [],
   "source": [
    "model.compile(optimizer='adam',\n",
    "             loss='binary_crossentropy',\n",
    "             metrics=['accuracy'])"
   ]
  },
  {
   "cell_type": "markdown",
   "metadata": {},
   "source": [
    "# Creating a Validation Set\n",
    "When training, we have to check the accuracy of the model on data it hasn't seen before. We will create a *validation set* by setting 10,000 examples from the original training data. "
   ]
  },
  {
   "cell_type": "code",
   "execution_count": 0,
   "metadata": {
    "colab": {},
    "colab_type": "code",
    "id": "S4Ns39F1oqXu"
   },
   "outputs": [],
   "source": [
    "x_val = train_data[:10000]\n",
    "partial_x_train = train_data[10000:]\n",
    "\n",
    "y_val = train_labels[:10000]\n",
    "partial_y_train = train_labels[10000:]"
   ]
  },
  {
   "cell_type": "markdown",
   "metadata": {},
   "source": [
    "# Training the Model\n",
    "We will train the model for 40 epochs in mini-batches of 512 samples. This is 40 iterations over all samples in the `x_train` and `y_train` tensors. While training, we'll monitor the model's loss and accuracy on the 10,000 samples from the validation set."
   ]
  },
  {
   "cell_type": "code",
   "execution_count": 20,
   "metadata": {
    "colab": {
     "base_uri": "https://localhost:8080/",
     "height": 1414
    },
    "colab_type": "code",
    "id": "FUKWCuYepOwh",
    "outputId": "707415fa-a6c4-43e4-bf09-c215ce338475"
   },
   "outputs": [
    {
     "name": "stdout",
     "output_type": "stream",
     "text": [
      "Train on 15000 samples, validate on 10000 samples\n",
      "Epoch 1/40\n",
      "15000/15000 [==============================] - 1s 95us/sample - loss: 0.6921 - accuracy: 0.5471 - val_loss: 0.6904 - val_accuracy: 0.5757\n",
      "Epoch 2/40\n",
      "15000/15000 [==============================] - 1s 68us/sample - loss: 0.6868 - accuracy: 0.6337 - val_loss: 0.6832 - val_accuracy: 0.6407\n",
      "Epoch 3/40\n",
      "15000/15000 [==============================] - 1s 66us/sample - loss: 0.6756 - accuracy: 0.6979 - val_loss: 0.6694 - val_accuracy: 0.7195\n",
      "Epoch 4/40\n",
      "15000/15000 [==============================] - 1s 66us/sample - loss: 0.6561 - accuracy: 0.7277 - val_loss: 0.6471 - val_accuracy: 0.7625\n",
      "Epoch 5/40\n",
      "15000/15000 [==============================] - 1s 65us/sample - loss: 0.6272 - accuracy: 0.7740 - val_loss: 0.6168 - val_accuracy: 0.7782\n",
      "Epoch 6/40\n",
      "15000/15000 [==============================] - 1s 65us/sample - loss: 0.5889 - accuracy: 0.8057 - val_loss: 0.5787 - val_accuracy: 0.7908\n",
      "Epoch 7/40\n",
      "15000/15000 [==============================] - 1s 64us/sample - loss: 0.5434 - accuracy: 0.8239 - val_loss: 0.5345 - val_accuracy: 0.8170\n",
      "Epoch 8/40\n",
      "15000/15000 [==============================] - 1s 67us/sample - loss: 0.4954 - accuracy: 0.8453 - val_loss: 0.4923 - val_accuracy: 0.8315\n",
      "Epoch 9/40\n",
      "15000/15000 [==============================] - 1s 66us/sample - loss: 0.4496 - accuracy: 0.8612 - val_loss: 0.4531 - val_accuracy: 0.8430\n",
      "Epoch 10/40\n",
      "15000/15000 [==============================] - 1s 63us/sample - loss: 0.4080 - accuracy: 0.8743 - val_loss: 0.4199 - val_accuracy: 0.8525\n",
      "Epoch 11/40\n",
      "15000/15000 [==============================] - 1s 61us/sample - loss: 0.3721 - accuracy: 0.8825 - val_loss: 0.3922 - val_accuracy: 0.8593\n",
      "Epoch 12/40\n",
      "15000/15000 [==============================] - 1s 61us/sample - loss: 0.3417 - accuracy: 0.8907 - val_loss: 0.3708 - val_accuracy: 0.8628\n",
      "Epoch 13/40\n",
      "15000/15000 [==============================] - 1s 60us/sample - loss: 0.3166 - accuracy: 0.8971 - val_loss: 0.3523 - val_accuracy: 0.8691\n",
      "Epoch 14/40\n",
      "15000/15000 [==============================] - 1s 62us/sample - loss: 0.2946 - accuracy: 0.9023 - val_loss: 0.3387 - val_accuracy: 0.8735\n",
      "Epoch 15/40\n",
      "15000/15000 [==============================] - 1s 62us/sample - loss: 0.2761 - accuracy: 0.9084 - val_loss: 0.3271 - val_accuracy: 0.8762\n",
      "Epoch 16/40\n",
      "15000/15000 [==============================] - 1s 62us/sample - loss: 0.2598 - accuracy: 0.9132 - val_loss: 0.3183 - val_accuracy: 0.8759\n",
      "Epoch 17/40\n",
      "15000/15000 [==============================] - 1s 62us/sample - loss: 0.2447 - accuracy: 0.9179 - val_loss: 0.3107 - val_accuracy: 0.8796\n",
      "Epoch 18/40\n",
      "15000/15000 [==============================] - 1s 61us/sample - loss: 0.2315 - accuracy: 0.9223 - val_loss: 0.3043 - val_accuracy: 0.8815\n",
      "Epoch 19/40\n",
      "15000/15000 [==============================] - 1s 62us/sample - loss: 0.2196 - accuracy: 0.9246 - val_loss: 0.2993 - val_accuracy: 0.8817\n",
      "Epoch 20/40\n",
      "15000/15000 [==============================] - 1s 62us/sample - loss: 0.2089 - accuracy: 0.9291 - val_loss: 0.2958 - val_accuracy: 0.8832\n",
      "Epoch 21/40\n",
      "15000/15000 [==============================] - 1s 60us/sample - loss: 0.1981 - accuracy: 0.9341 - val_loss: 0.2930 - val_accuracy: 0.8831\n",
      "Epoch 22/40\n",
      "15000/15000 [==============================] - 1s 61us/sample - loss: 0.1890 - accuracy: 0.9369 - val_loss: 0.2900 - val_accuracy: 0.8842\n",
      "Epoch 23/40\n",
      "15000/15000 [==============================] - 1s 61us/sample - loss: 0.1800 - accuracy: 0.9425 - val_loss: 0.2892 - val_accuracy: 0.8845\n",
      "Epoch 24/40\n",
      "15000/15000 [==============================] - 1s 62us/sample - loss: 0.1721 - accuracy: 0.9450 - val_loss: 0.2886 - val_accuracy: 0.8846\n",
      "Epoch 25/40\n",
      "15000/15000 [==============================] - 1s 61us/sample - loss: 0.1641 - accuracy: 0.9487 - val_loss: 0.2867 - val_accuracy: 0.8848\n",
      "Epoch 26/40\n",
      "15000/15000 [==============================] - 1s 61us/sample - loss: 0.1570 - accuracy: 0.9509 - val_loss: 0.2879 - val_accuracy: 0.8846\n",
      "Epoch 27/40\n",
      "15000/15000 [==============================] - 1s 61us/sample - loss: 0.1502 - accuracy: 0.9538 - val_loss: 0.2875 - val_accuracy: 0.8861\n",
      "Epoch 28/40\n",
      "15000/15000 [==============================] - 1s 60us/sample - loss: 0.1438 - accuracy: 0.9561 - val_loss: 0.2891 - val_accuracy: 0.8864\n",
      "Epoch 29/40\n",
      "15000/15000 [==============================] - 1s 60us/sample - loss: 0.1381 - accuracy: 0.9592 - val_loss: 0.2900 - val_accuracy: 0.8843\n",
      "Epoch 30/40\n",
      "15000/15000 [==============================] - 1s 61us/sample - loss: 0.1322 - accuracy: 0.9615 - val_loss: 0.2905 - val_accuracy: 0.8856\n",
      "Epoch 31/40\n",
      "15000/15000 [==============================] - 1s 61us/sample - loss: 0.1263 - accuracy: 0.9633 - val_loss: 0.2917 - val_accuracy: 0.8866\n",
      "Epoch 32/40\n",
      "15000/15000 [==============================] - 1s 61us/sample - loss: 0.1211 - accuracy: 0.9662 - val_loss: 0.2936 - val_accuracy: 0.8850\n",
      "Epoch 33/40\n",
      "15000/15000 [==============================] - 1s 61us/sample - loss: 0.1160 - accuracy: 0.9674 - val_loss: 0.2964 - val_accuracy: 0.8852\n",
      "Epoch 34/40\n",
      "15000/15000 [==============================] - 1s 61us/sample - loss: 0.1114 - accuracy: 0.9691 - val_loss: 0.2994 - val_accuracy: 0.8845\n",
      "Epoch 35/40\n",
      "15000/15000 [==============================] - 1s 63us/sample - loss: 0.1071 - accuracy: 0.9702 - val_loss: 0.3017 - val_accuracy: 0.8855\n",
      "Epoch 36/40\n",
      "15000/15000 [==============================] - 1s 63us/sample - loss: 0.1026 - accuracy: 0.9724 - val_loss: 0.3041 - val_accuracy: 0.8839\n",
      "Epoch 37/40\n",
      "15000/15000 [==============================] - 1s 64us/sample - loss: 0.0983 - accuracy: 0.9737 - val_loss: 0.3075 - val_accuracy: 0.8835\n",
      "Epoch 38/40\n",
      "15000/15000 [==============================] - 1s 66us/sample - loss: 0.0943 - accuracy: 0.9757 - val_loss: 0.3117 - val_accuracy: 0.8828\n",
      "Epoch 39/40\n",
      "15000/15000 [==============================] - 1s 66us/sample - loss: 0.0911 - accuracy: 0.9765 - val_loss: 0.3162 - val_accuracy: 0.8822\n",
      "Epoch 40/40\n",
      "15000/15000 [==============================] - 1s 68us/sample - loss: 0.0869 - accuracy: 0.9789 - val_loss: 0.3198 - val_accuracy: 0.8814\n"
     ]
    }
   ],
   "source": [
    "history = model.fit(partial_x_train,\n",
    "                   partial_y_train,\n",
    "                   epochs=40,\n",
    "                   batch_size=512,\n",
    "                   validation_data=(x_val, y_val),\n",
    "                   verbose=1)"
   ]
  },
  {
   "cell_type": "markdown",
   "metadata": {},
   "source": [
    "# Model Evaluation\n",
    "Now let's see how our model performs. The two values retuened would be *loss* and *accuracy*."
   ]
  },
  {
   "cell_type": "code",
   "execution_count": 21,
   "metadata": {
    "colab": {
     "base_uri": "https://localhost:8080/",
     "height": 71
    },
    "colab_type": "code",
    "id": "7D6CFH4NpzS0",
    "outputId": "1fb53ec5-f86f-4b1f-c1ef-3e116493e69a"
   },
   "outputs": [
    {
     "name": "stdout",
     "output_type": "stream",
     "text": [
      "25000/25000 [==============================] - 1s 40us/sample - loss: 0.3412 - accuracy: 0.8697\n",
      "[0.3411881626224518, 0.86968]\n"
     ]
    }
   ],
   "source": [
    "results = model.evaluate(test_data, test_labels)\n",
    "print(results)"
   ]
  },
  {
   "cell_type": "markdown",
   "metadata": {},
   "source": [
    "This fairly naive approach achieves an accuracy of about 86%. With more advanced approaches, the model should get closer to 95%"
   ]
  },
  {
   "cell_type": "markdown",
   "metadata": {},
   "source": [
    "# Creating a Graph of Accuracy & Loss over Time\n",
    "`model.fit()` returns `History` object that contains a dictionary with everything that happened during training."
   ]
  },
  {
   "cell_type": "code",
   "execution_count": 22,
   "metadata": {
    "colab": {
     "base_uri": "https://localhost:8080/",
     "height": 34
    },
    "colab_type": "code",
    "id": "KFmf_BpasxRo",
    "outputId": "7157fbca-904f-4123-e7bf-f69463f60e69"
   },
   "outputs": [
    {
     "data": {
      "text/plain": [
       "dict_keys(['loss', 'accuracy', 'val_loss', 'val_accuracy'])"
      ]
     },
     "execution_count": 22,
     "metadata": {
      "tags": []
     },
     "output_type": "execute_result"
    }
   ],
   "source": [
    "history_dict = history.history\n",
    "history_dict.keys()"
   ]
  },
  {
   "cell_type": "markdown",
   "metadata": {},
   "source": [
    "There are four entries: one for each monitored metric during training and validation. We will use these to plot the training and validation loss for comparison, as well as the training and validation accuracy."
   ]
  },
  {
   "cell_type": "code",
   "execution_count": 0,
   "metadata": {
    "colab": {},
    "colab_type": "code",
    "id": "uhlUJV4MtCTF"
   },
   "outputs": [],
   "source": [
    "import matplotlib.pyplot as plt"
   ]
  },
  {
   "cell_type": "code",
   "execution_count": 24,
   "metadata": {
    "colab": {
     "base_uri": "https://localhost:8080/",
     "height": 376
    },
    "colab_type": "code",
    "id": "EzW8mf4JtQX-",
    "outputId": "43fc2f16-eb56-4852-c06e-c8973a3f6766"
   },
   "outputs": [
    {
     "data": {
      "image/png": "[encoded data removed]",
      "text/plain": [
       "<Figure size 576x396 with 1 Axes>"
      ]
     },
     "metadata": {
      "tags": []
     },
     "output_type": "display_data"
    }
   ],
   "source": [
    "acc = history_dict['accuracy']\n",
    "val_acc = history_dict['val_accuracy']\n",
    "loss = history_dict['loss']\n",
    "val_loss = history_dict['val_loss']\n",
    "\n",
    "epochs = range(1, len(acc)+1)\n",
    "\n",
    "plt.plot(epochs, loss, 'bo', label='Training Loss') # \"bo\" == \"blue dot\"\n",
    "plt.plot(epochs, val_loss, 'b', label='Validation Loss') # \"b\" == blue solid line\n",
    "plt.title('Training & Validation Loss')\n",
    "plt.xlabel('Epochs')\n",
    "plt.ylabel('Loss')\n",
    "plt.legend()\n",
    "\n",
    "plt.show()"
   ]
  },
  {
   "cell_type": "code",
   "execution_count": 25,
   "metadata": {
    "colab": {
     "base_uri": "https://localhost:8080/",
     "height": 376
    },
    "colab_type": "code",
    "id": "N9mmPmAqu_Gm",
    "outputId": "5430e146-f8eb-4b41-cc28-4ede22cdd939",
    "scrolled": true
   },
   "outputs": [
    {
     "data": {
      "image/png": "[encoded data removed]",
      "text/plain": [
       "<Figure size 576x396 with 1 Axes>"
      ]
     },
     "metadata": {
      "tags": []
     },
     "output_type": "display_data"
    }
   ],
   "source": [
    "plt.clf() #clears figure\n",
    "\n",
    "plt.plot(epochs, acc, 'bo', label='Training Accuracy')\n",
    "plt.plot(epochs, val_acc, 'b', label='Validation Accuracy')\n",
    "plt.title('Training & Validation Accuracy')\n",
    "plt.xlabel('Epochs')\n",
    "plt.ylabel('Accuracy')\n",
    "plt.legend()\n",
    "\n",
    "plt.show()"
   ]
  },
  {
   "cell_type": "markdown",
   "metadata": {
    "colab": {},
    "colab_type": "code",
    "id": "TNiRQf4pwgE-"
   },
   "source": [
    "# Interpretations\n",
    "In this plot, the dots represent the training loss and accuracy, and the solid lines are the validation loss and accuracy.\n",
    "<br>\n",
    "Notice the training loss *decreases* with each epoch and the training accuracy *increases* with each epoch. This is expected when using a gradient descent optimization—it should minimize the desired quantity on every iteration.\n",
    "<br>\n",
    "This isn't the case for the validation loss and accuracy—they seem to peak after about twenty epochs. This is an example of overfitting: the model performs better on the training data than it does on data it has never seen before. After this point, the model over-optimizes and learns representations specific to the training data that do not *generalize* to test data. For this particular case, we could prevent overfitting by simply stopping the training after twenty or so epochs."
   ]
  },
  {
   "cell_type": "code",
   "execution_count": null,
   "metadata": {},
   "outputs": [],
   "source": []
  }
 ],
 "metadata": {
  "colab": {
   "collapsed_sections": [],
   "name": "Text Classification Tensorflow2.ipynb",
   "provenance": [],
   "version": "0.3.2"
  },
  "kernelspec": {
   "display_name": "Python 3",
   "language": "python",
   "name": "python3"
  },
  "language_info": {
   "codemirror_mode": {
    "name": "ipython",
    "version": 3
   },
   "file_extension": ".py",
   "mimetype": "text/x-python",
   "name": "python",
   "nbconvert_exporter": "python",
   "pygments_lexer": "ipython3",
   "version": "3.5.6"
  },
  "widgets": {
   "state": {},
   "version": "1.1.2"
  }
 },
 "nbformat": 4,
 "nbformat_minor": 1
}
